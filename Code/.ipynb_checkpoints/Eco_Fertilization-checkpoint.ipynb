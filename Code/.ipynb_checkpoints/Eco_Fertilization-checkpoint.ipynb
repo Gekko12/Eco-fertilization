{
 "cells": [
  {
   "cell_type": "markdown",
   "metadata": {},
   "source": [
    "# <font color=\"hotpink\">Eco-Fertilization</font>"
   ]
  },
  {
   "cell_type": "markdown",
   "metadata": {},
   "source": [
    "## Version Info\n",
    "* Python version: 3.8.10\n",
    "* requests module version: 2.22.0\n",
    "* json module version: 2.0.9"
   ]
  },
  {
   "cell_type": "code",
   "execution_count": 24,
   "metadata": {},
   "outputs": [
    {
     "name": "stdout",
     "output_type": "stream",
     "text": [
      "Python 3.8.10\n",
      "requests 2.22.0\n",
      "json 2.0.9\n"
     ]
    }
   ],
   "source": [
    "import requests as rq\n",
    "import json as js\n",
    "\n",
    "! python3 --version\n",
    "print(\"requests\", rq.__version__)\n",
    "print(\"json\", js.__version__)"
   ]
  },
  {
   "cell_type": "markdown",
   "metadata": {},
   "source": [
    "## Weather API\n",
    "* Using <a href=\"https://openweathermap.org/\">OpenWeathermap API</a>\n",
    "* Acessing __ days of forecast data in json format\n",
    "* Data requests\n",
    "    1. temperature (Celsius)\n",
    "    2. humidity (relative humidity in %)\n",
    "    3. rainfall (mm)\n",
    "\n",
    "* WARNINGS\n",
    "\n",
    "```\n",
    "Response from API when your account is suspended\n",
    "{ \"cod\": 429,\n",
    "\"message\": \"Your account is temporary blocked due to exceeding of requests limitation of your subscription type. \n",
    "Please choose the proper subscription http://openweathermap.org/price\"\n",
    "}\n",
    "```\n",
    "\n",
    "\n",
    "* Weather condition codes: https://openweathermap.org/weather-conditions"
   ]
  },
  {
   "cell_type": "code",
   "execution_count": 36,
   "metadata": {},
   "outputs": [
    {
     "name": "stdout",
     "output_type": "stream",
     "text": [
      "https://api.openweathermap.org/data/2.5/weather?q=bangalore&appid=eccd9508668fa0915f433fb9ca775d75\n",
      "{'coord': {'lon': 77.6033, 'lat': 12.9762}, 'weather': [{'id': 802, 'main': 'Clouds', 'description': 'scattered clouds', 'icon': '03d'}], 'base': 'stations', 'main': {'temp': 303, 'feels_like': 304.45, 'temp_min': 301.95, 'temp_max': 303.83, 'pressure': 942, 'humidity': 53}, 'visibility': 10000, 'wind': {'speed': 2.57, 'deg': 270}, 'clouds': {'all': 40}, 'dt': 1653395383, 'sys': {'type': 2, 'id': 2017753, 'country': 'IN', 'sunrise': 1653351773, 'sunset': 1653397813}, 'timezone': 19800, 'id': 1277333, 'name': 'Bengaluru', 'cod': 200}\n"
     ]
    }
   ],
   "source": [
    "api_key = \"eccd9508668fa0915f433fb9ca775d75\"\n",
    "\n",
    "\n",
    "city_name = \"bangalore\"\n",
    "\n",
    "#api.openweathermap.org/data/2.5/forecast/daily?q={city name}&cnt={cnt}&appid={API key}\n",
    "#complete_url = \"https://api.openweathermap.org/data/2.5/forecast/daily?q={0}&cnt={1}&appid={2}\".format(city_name, 3, api_key)\n",
    "complete_url = \"https://api.openweathermap.org/data/2.5/weather?q={0}&appid={1}\".format(city_name, api_key)\n",
    "print(complete_url)\n",
    "response = requests.get(complete_url)\n",
    "\n",
    "data = response.json()\n",
    "print(data)\n",
    "\n"
   ]
  },
  {
   "cell_type": "code",
   "execution_count": null,
   "metadata": {},
   "outputs": [],
   "source": []
  }
 ],
 "metadata": {
  "kernelspec": {
   "display_name": "Python 3.8.10 64-bit",
   "language": "python",
   "name": "python3810jvsc74a57bd0916dbcbb3f70747c44a77c7bcd40155683ae19c65e1c03b4aa3499c5328201f1"
  },
  "language_info": {
   "codemirror_mode": {
    "name": "ipython",
    "version": 3
   },
   "file_extension": ".py",
   "mimetype": "text/x-python",
   "name": "python",
   "nbconvert_exporter": "python",
   "pygments_lexer": "ipython3",
   "version": "3.8.10"
  }
 },
 "nbformat": 4,
 "nbformat_minor": 4
}
